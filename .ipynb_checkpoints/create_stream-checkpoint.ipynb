{
 "cells": [
  {
   "cell_type": "markdown",
   "metadata": {},
   "source": [
    "From http://adilmoujahid.com/posts/2014/07/twitter-analytics/"
   ]
  },
  {
   "cell_type": "code",
   "execution_count": null,
   "metadata": {
    "collapsed": true
   },
   "outputs": [],
   "source": [
    "from tweepy.streaming import StreamListener\n",
    "from tweepy import OAuthHandler\n",
    "from tweepy import Stream\n",
    "import sys\n",
    "\n",
    "#Creates file named \"output.json\" to store tweets+metadata \n",
    "sys.stdout = open('output.json', 'w')\n",
    "\n",
    "access_token = \"60189429-F4Dx5e1dnaXMGCokXzJSzSRscHGpYFd1gS0QDGPmx\"\n",
    "access_token_secret = \"KD6O4yOW7XgR0DcBWqa2Qc5xzpscCWaggf1Gn04tGjDyN\"\n",
    "consumer_key = \"g2kQPotuZUTZS0rWL6oSJElNU\"\n",
    "consumer_secret = \"GvNi2iFQoF9XdqlX1f7hCwKjpLGvg0CbtZsCmAQhfOS8AIFXFy\"\n",
    "\n",
    "class StdOutListener(StreamListener):\n",
    "\n",
    "    def on_data(self, data):\n",
    "        print data\n",
    "        return True\n",
    "\n",
    "    def on_error(self, status):\n",
    "        print status\n",
    "  \n",
    "\n",
    "if __name__ == '__main__':\n",
    "\n",
    "    #This handles Twitter authetification and the connection to Twitter Streaming API \n",
    "    l = StdOutListener()\n",
    "    auth = OAuthHandler(consumer_key, consumer_secret)\n",
    "    auth.set_access_token(access_token, access_token_secret)\n",
    "\n",
    "#Twitter API requires you to filter ( https://dev.twitter.com/streaming/reference/post/statuses/filter ), I used solution proposed here http://stackoverflow.com/questions/27530269/how-can-i-use-tweepy-without-a-filter , another solution is proposed here http://stackoverflow.com/questions/26890605/filter-twitter-feeds-only-by-language\n",
    "stream = Stream(auth, l).filter(locations=[-180,-90,180,90])"
   ]
  }
 ],
 "metadata": {
  "kernelspec": {
   "display_name": "Python 2",
   "language": "python",
   "name": "python2"
  },
  "language_info": {
   "codemirror_mode": {
    "name": "ipython",
    "version": 2
   },
   "file_extension": ".py",
   "mimetype": "text/x-python",
   "name": "python",
   "nbconvert_exporter": "python",
   "pygments_lexer": "ipython2",
   "version": "2.7.11"
  }
 },
 "nbformat": 4,
 "nbformat_minor": 0
}
